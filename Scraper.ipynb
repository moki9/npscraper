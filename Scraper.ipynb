{
 "cells": [
  {
   "cell_type": "code",
   "execution_count": 47,
   "metadata": {},
   "outputs": [
    {
     "name": "stdout",
     "output_type": "stream",
     "text": [
      "sidebar data: {'open_bets': '฿ 66.00', 'availabe_balance': '฿ 9,317.00', 'maximum_bet': '฿ 792,232.00'}\n",
      "[{'player_name_away': 'Ericka Donnelly', 'bet_time': '10:32', 'match': 'HI Kuhnborough Wisconsin Cup', 'player_name_home': 'Mervin Grimes Jr.', 'scores': [{'1': '1.198'}, {'x': '2.324'}, {'2': '2.709'}, {'handicap_0': '+2.95'}, {'handicap_1': '0.034'}, {'handicap_2': '2.842'}, {'handicap_ou_0': '-1.42'}, {'handicap_ou_1': '2.563'}, {'handicap_ou_2': '2.075'}, {'home_0': '-1.62'}, {'home_1': '1.51'}, {'home_2': '0.415'}, {'correct_score': '1.917'}], 'player_away_score': '5', 'player_score_home': '7'}, {'player_name_away': 'Dr. Lela Ledner', 'bet_time': '01:55', 'match': 'MA West Opal Vermont Cup', 'player_name_home': 'Marcelino Schinner', 'scores': [{'1': '0.715'}, {'x': '2.33'}, {'2': '0.433'}, {'handicap_0': '-0.75'}, {'handicap_1': '0.993'}, {'handicap_2': '2.978'}, {'handicap_ou_0': '-0.67'}, {'handicap_ou_1': '0.136'}, {'handicap_ou_2': '2.616'}, {'home_0': '+2.18'}, {'home_1': '1.623'}, {'home_2': '2.137'}, {'correct_score': '0.386'}], 'player_away_score': '3', 'player_score_home': '8'}, {'player_name_away': 'Mr. Horace Lubowitz', 'bet_time': '02:45', 'match': 'FL New Caleside North Carolina Cup', 'player_name_home': 'Rudy Upton', 'scores': [{'1': '2.926'}, {'x': '0.806'}, {'2': '1.509'}, {'handicap_0': '+2.8'}, {'handicap_1': '2.23'}, {'handicap_2': '1.164'}, {'handicap_ou_0': '-0.24'}, {'handicap_ou_1': '2.72'}, {'handicap_ou_2': '0.89'}, {'home_0': '-0.86'}, {'home_1': '1.306'}, {'home_2': '0.277'}, {'correct_score': '0.541'}], 'player_away_score': '6', 'player_score_home': '2'}]\n"
     ]
    }
   ],
   "source": [
    "from selenium.webdriver import Firefox\n",
    "from selenium.webdriver.firefox.options import Options\n",
    "\n",
    "from selenium.webdriver.common.keys import Keys\n",
    "from selenium.webdriver.common.by import By\n",
    "from selenium.webdriver.support.ui import WebDriverWait\n",
    "\n",
    "from bs4 import BeautifulSoup\n",
    "\n",
    "\n",
    "#constants\n",
    "REMOTE_HOST=\"http://35.238.5.118\"\n",
    "USERNAME='userexam'\n",
    "PASSWORD='11111111'\n",
    "\n",
    "\n",
    "opts = Options()\n",
    "opts.headless = True\n",
    "assert opts.headless\n",
    "\n",
    "browser = Firefox(options=opts)\n",
    "browser.get(REMOTE_HOST)\n",
    "wait = WebDriverWait(browser, 10)\n",
    "\n",
    "assert \"ninepine\" in browser.title.lower()\n",
    "    \n",
    "username_el=browser.find_element(By.XPATH, '//*[@id=\"username\"]')\n",
    "password_el=browser.find_element(By.XPATH, '//*[@id=\"password\"]')\n",
    "username_el.clear()\n",
    "password_el.clear()\n",
    "username_el.send_keys(USERNAME)\n",
    "password_el.send_keys(PASSWORD)\n",
    "password_el.send_keys(Keys.RETURN) #simulate ENTER key after entering password\n",
    "\n",
    "WebDriverWait(browser, 10).until(lambda browser: browser.find_element_by_xpath('//*[@id=\"sidebar\"]/div'))\n",
    "\n",
    "data = {}\n",
    "data[\"maximum_bet\"]=browser.find_element(By.XPATH, '//*[@id=\"sidebar\"]/div/span[2]').text\n",
    "data[\"availabe_balance\"]=browser.find_element(By.XPATH, '//*[@id=\"sidebar\"]/div/span[4]').text\n",
    "data[\"open_bets\"]=browser.find_element(By.XPATH, '//*[@id=\"sidebar\"]/div/span[6]').text\n",
    "print(\"sidebar data: {}\".format(data))\n",
    "\n",
    "browser.execute_script(\"angular.element($('#frame-trade')).scope().generateTrade();\")\n",
    "\n",
    "dtframe = '//*[@id=\"frame-trade\"]'\n",
    "browser.switch_to.frame(browser.find_element(By.XPATH, dtframe))\n",
    "\n",
    "page = BeautifulSoup(browser.page_source, \"lxml\")\n",
    "\n",
    "cards = page.select('div[class=\"card\"]')\n",
    "\n",
    "data_table=[]\n",
    "for card in cards:\n",
    "    table = card.find('table')\n",
    "    rows = table.find_all('tr')\n",
    "    match_name = rows[0].find_all('th')[0].find('span').text\n",
    "    r1_tds = rows[1].find_all('td')\n",
    "    r2_tds = rows[2].find_all('td')\n",
    "    player_name_home = r1_tds[1].find('span', class_=\"player-name-home\").text\n",
    "    player_score_home = r1_tds[1].find('span', class_=\"player-score-home\").text\n",
    "    player_name_away = r1_tds[1].find('span', class_=\"player-name-away\").text\n",
    "    player_away_score = r1_tds[1].find('span', class_=\"player-score-away\").text\n",
    "    bet_time = r2_tds[1].find('span').text\n",
    "    \n",
    "    scores = []\n",
    "    for i, s in enumerate(r1_tds):\n",
    "        if i == 0:\n",
    "            continue\n",
    "        attrib = s.get(\"data-var\")\n",
    "        if attrib:\n",
    "            k = attrib.replace('soc_col_','')\n",
    "            scores.append({k: s.text})\n",
    "\n",
    "    data_table.append({\n",
    "          \"match\": match_name,\n",
    "          \"player_name_home\": str(player_name_home),\n",
    "          \"player_score_home\": str(player_score_home),\n",
    "          \"player_name_away\": str(player_name_away),\n",
    "          \"player_away_score\": str(player_away_score),\n",
    "          \"bet_time\": str(bet_time),\n",
    "          \"scores\": scores\n",
    "    })\n",
    "print(data_table)\n",
    "browser.quit()\n"
   ]
  },
  {
   "cell_type": "code",
   "execution_count": 43,
   "metadata": {},
   "outputs": [
    {
     "data": {
      "text/plain": [
       "'correct_score'"
      ]
     },
     "execution_count": 43,
     "metadata": {},
     "output_type": "execute_result"
    }
   ],
   "source": []
  },
  {
   "cell_type": "code",
   "execution_count": null,
   "metadata": {},
   "outputs": [],
   "source": []
  },
  {
   "cell_type": "code",
   "execution_count": null,
   "metadata": {},
   "outputs": [],
   "source": []
  },
  {
   "cell_type": "code",
   "execution_count": null,
   "metadata": {},
   "outputs": [],
   "source": []
  }
 ],
 "metadata": {
  "kernelspec": {
   "display_name": "Python 3",
   "language": "python",
   "name": "python3"
  },
  "language_info": {
   "codemirror_mode": {
    "name": "ipython",
    "version": 3
   },
   "file_extension": ".py",
   "mimetype": "text/x-python",
   "name": "python",
   "nbconvert_exporter": "python",
   "pygments_lexer": "ipython3",
   "version": "3.5.5"
  }
 },
 "nbformat": 4,
 "nbformat_minor": 2
}
