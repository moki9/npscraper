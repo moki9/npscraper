{
 "cells": [
  {
   "cell_type": "code",
   "execution_count": 12,
   "metadata": {},
   "outputs": [
    {
     "name": "stdout",
     "output_type": "stream",
     "text": [
      "NinePine\n",
      "{'open_bets': '฿ 66.00', 'availabe_balance': '฿ 8,920.00', 'maximum_bet': '฿ 695,752.00'}\n"
     ]
    }
   ],
   "source": [
    "from selenium.webdriver import Firefox\n",
    "from selenium.webdriver.firefox.options import Options\n",
    "\n",
    "from selenium.webdriver.common.keys import Keys\n",
    "from selenium.webdriver.common.by import By\n",
    "from selenium.webdriver.support.ui import WebDriverWait\n",
    "\n",
    "\n",
    "\n",
    "#constants\n",
    "REMOTE_HOST=\"http://35.238.5.118\"\n",
    "USERNAME='userexam'\n",
    "PASSWORD='11111111'\n",
    "\n",
    "\n",
    "\n",
    "# opts = Options()\n",
    "# opts.headless = True\n",
    "# assert opts.headless\n",
    "\n",
    "# browser = Firefox(options=opts)\n",
    "browser = Firefox()\n",
    "browser.get(REMOTE_HOST)\n",
    "\n",
    "assert \"ninepine\" in browser.title.lower()\n",
    "\n",
    "print(browser.title)\n",
    "\n",
    "def login(browser, username, password):\n",
    "    \n",
    "    username_el=browser.find_element(By.XPATH, '//*[@id=\"username\"]')\n",
    "    password_el=browser.find_element(By.XPATH, '//*[@id=\"password\"]')\n",
    "    username_el.clear()\n",
    "    password_el.clear()\n",
    "    username_el.send_keys(username)\n",
    "    password_el.send_keys(password)\n",
    "    password_el.send_keys(Keys.RETURN) #simulate ENTER key after entering password\n",
    "\n",
    "def extract_data(browser):\n",
    "    data = {}\n",
    "    data[\"maximum_bet\"]=browser.find_element(By.XPATH, '//*[@id=\"sidebar\"]/div/span[2]').text\n",
    "    data[\"availabe_balance\"]=browser.find_element(By.XPATH, '//*[@id=\"sidebar\"]/div/span[4]').text\n",
    "    data[\"open_bets\"]=browser.find_element(By.XPATH, '//*[@id=\"sidebar\"]/div/span[6]').text\n",
    "    return data\n",
    " \n",
    "    \n",
    "login(browser, USERNAME, PASSWORD)\n",
    "WebDriverWait(browser, 10).until(lambda browser: browser.find_element_by_xpath('//*[@id=\"sidebar\"]/div'))\n",
    "data = extract_data(browser)\n",
    "print(data)\n",
    "\n",
    "\n",
    "    \n",
    "\n"
   ]
  },
  {
   "cell_type": "code",
   "execution_count": null,
   "metadata": {},
   "outputs": [],
   "source": []
  }
 ],
 "metadata": {
  "kernelspec": {
   "display_name": "Python 3",
   "language": "python",
   "name": "python3"
  },
  "language_info": {
   "codemirror_mode": {
    "name": "ipython",
    "version": 3
   },
   "file_extension": ".py",
   "mimetype": "text/x-python",
   "name": "python",
   "nbconvert_exporter": "python",
   "pygments_lexer": "ipython3",
   "version": "3.5.5"
  }
 },
 "nbformat": 4,
 "nbformat_minor": 2
}
